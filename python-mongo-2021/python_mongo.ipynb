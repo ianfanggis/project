{
 "cells": [
  {
   "cell_type": "code",
   "execution_count": 1,
   "metadata": {},
   "outputs": [],
   "source": [
    "# https://vimsky.com/zh-tw/examples/detail/python-method-pymongo.MongoClient.html\n",
    "# https://vimsky.com/zh-tw/examples/detail/python-method-pymongo.collection.html\n",
    "\n",
    "from pymongo import MongoClient\n",
    "from bson.tz_util import FixedOffset\n",
    "from bson.objectid import ObjectId\n",
    "# from datetime import datetime\n",
    "import os\n",
    "import pandas as pd\n",
    "import time\n",
    "import datetime\n",
    "from time import mktime as mktime"
   ]
  },
  {
   "cell_type": "code",
   "execution_count": 2,
   "metadata": {},
   "outputs": [],
   "source": [
    "'''\n",
    "os.getenv(\"admin\", \"mongodb://name:XXX:27017\")\n",
    "'''\n",
    "\n",
    "myclient = MongoClient(os.getenv(\"admin\", \"mongodb://name:XXX:27017\"))\n",
    "# myclient.database_names()\n",
    "mydb = myclient[\"insula_staging\"]\n",
    "# mydb.collection_names()\n",
    "collection = mydb[\"game_analysis\"]"
   ]
  },
  {
   "cell_type": "code",
   "execution_count": 3,
   "metadata": {},
   "outputs": [
    {
     "name": "stderr",
     "output_type": "stream",
     "text": [
      "<ipython-input-3-7c4bc5758cb0>:1: DeprecationWarning: count is deprecated. Use estimated_document_count or count_documents instead. Please note that $where must be replaced by $expr, $near must be replaced by $geoWithin with $center, and $nearSphere must be replaced by $geoWithin with $centerSphere\n",
      "  collection.count()\n"
     ]
    },
    {
     "data": {
      "text/plain": [
       "923"
      ]
     },
     "execution_count": 3,
     "metadata": {},
     "output_type": "execute_result"
    }
   ],
   "source": [
    "collection.count()"
   ]
  },
  {
   "cell_type": "code",
   "execution_count": 4,
   "metadata": {},
   "outputs": [],
   "source": [
    "def trans_time(time1):\n",
    "#     t1 = datetime.datetime.strptime(time, \"%Y-%m-%d %H:%M:%S.%f\")\n",
    "    t2 = time1 + datetime.timedelta(hours = 8)\n",
    "    #轉成時間戳\n",
    "    #10秒\n",
    "    date_stamp = str(int(mktime(t2.timetuple())))\n",
    "    #3秒\n",
    "    data_microsecond = str(\"%06d\"%t2.microsecond)[0:3]\n",
    "    date_stamp = date_stamp+data_microsecond\n",
    "    \n",
    "    return date_stamp"
   ]
  },
  {
   "cell_type": "code",
   "execution_count": 5,
   "metadata": {},
   "outputs": [],
   "source": [
    "def column_order(df,feature_list):\n",
    "    feature_list.remove('email')\n",
    "    \n",
    "    cols = df.columns.to_list()\n",
    "    cols.insert(0, cols.pop(cols.index('userid')))\n",
    "    \n",
    "    for i in feature_list:\n",
    "        cols.insert(cols.index('userid')+1, cols.pop(cols.index(i)))\n",
    "    \n",
    "    df_f = df[cols]\n",
    "    \n",
    "    return df_f"
   ]
  },
  {
   "cell_type": "code",
   "execution_count": 6,
   "metadata": {},
   "outputs": [],
   "source": [
    "'''\n",
    "Data\n",
    "'''\n",
    "def mongo_concat_data(cursor, feature_list):\n",
    "    df_final = pd.DataFrame()\n",
    "    for i in range(cursor.count()):\n",
    "        df_1 = pd.DataFrame(cursor[i]['data'])\n",
    "        for j in feature_list:\n",
    "            df_1.loc[:,j] = cursor[i].get(j)\n",
    "        \n",
    "        df_1.loc[:,'start_time'] = df_1.loc[:,'start_time'].apply(lambda x : trans_time(x))\n",
    "        df_1.loc[:,'end_time'] = df_1.loc[:,'end_time'].apply(lambda x : trans_time(x))\n",
    "        \n",
    "        #MG5\n",
    "        try:\n",
    "            for k in cursor[i]['score'].keys():\n",
    "                df_1.loc[:,k] = cursor[i]['score'].get(k)\n",
    "        except:\n",
    "            pass                \n",
    "            \n",
    "        df_final = pd.concat([df_final, df_1], axis= 0)\n",
    "        \n",
    "    # 增加與調整userid\n",
    "    df_final.loc[:,'userid'] = df_final.loc[:,'email'].apply(lambda x: x.split('@')[0])\n",
    "    df_final.drop([\"email\"], axis=1,inplace = True)\n",
    "    \n",
    "    #調整順序\n",
    "    df_final = column_order(df_final,feature_list)\n",
    "    \n",
    "    df_final = df_final.reset_index(drop = True)\n",
    "    return df_final    "
   ]
  },
  {
   "cell_type": "code",
   "execution_count": 7,
   "metadata": {},
   "outputs": [],
   "source": [
    "'''\n",
    "Event\n",
    "'''\n",
    "def mongo_concat_event(cursor): \n",
    "    \n",
    "    df_final = pd.DataFrame()\n",
    "    for i in range(cursor.count()):\n",
    "        df_1 = pd.DataFrame(cursor[i]['event'])\n",
    "        df_1.loc[:,'game'] = cursor[i].get('game')\n",
    "        df_1.loc[:,'userid'] = cursor[i].get('email')\n",
    "        df_1.loc[:,'userid'] = df_1.loc[:,'userid'].apply(lambda x: x.split('@')[0])\n",
    "        df_1.loc[:,'time'] = df_1.loc[:,'time'].apply(lambda x : trans_time(x))\n",
    "        df_final = pd.concat([df_final, df_1], axis= 0)\n",
    "        \n",
    "    #調整順序\n",
    "    cols = df_final.columns.to_list()\n",
    "    cols.insert(0, cols.pop(cols.index('userid')))\n",
    "    cols.insert(cols.index('userid')+1, cols.pop(cols.index('game')))\n",
    "    df_final = df_final[cols]        \n",
    "    df_final = df_final.reset_index(drop = True)\n",
    "    \n",
    "#     df_final.loc[:,'time'] = df_final.loc[:,'time'].apply(lambda x : trans_time(x))\n",
    "\n",
    "    return df_final    "
   ]
  },
  {
   "cell_type": "code",
   "execution_count": 8,
   "metadata": {},
   "outputs": [],
   "source": [
    "def df_to_csv(df_data, df_event, mg_path, csv_name):\n",
    "    \n",
    "    try:\n",
    "        df_data.to_csv(mg_path +'/'+csv_name+'all_data.csv', index = False, encoding= \"utf_8_sig\")\n",
    "        print(csv_name + '_data轉檔成功')\n",
    "    except:\n",
    "        print(csv_name + '_data轉檔失敗')\n",
    "    \n",
    "    try:\n",
    "        df_event.to_csv(mg_path +'/'+csv_name+'all_event.csv', index = False, encoding= \"utf_8_sig\")\n",
    "        print(csv_name + '_event轉檔成功')\n",
    "    except:\n",
    "        print(csv_name + '_event轉檔失敗')        "
   ]
  },
  {
   "cell_type": "code",
   "execution_count": null,
   "metadata": {},
   "outputs": [],
   "source": [
    "'''\n",
    "\n",
    "https://stackoverflow.com/questions/3305561/how-to-query-mongodb-with-like\n",
    "dict_keys(['_id', 'version', 'created_at', 'user_id', 'email', 'game', 'stage', 'start_time', 'end_time', 'mngs', 'data', 'event'])\n",
    "\"start_time\" : { \"$gte\" : datetime.strptime('2021-08-12 08:00:00.000000', \"%Y-%m-%d %H:%M:%S.%f\").replace(tzinfo = FixedOffset(480, \"+0800\"))}\n",
    "'email' : { \"$in\" : ['']}\n",
    "\n",
    "\"start_time\" : { \"$gte\" : datetime.datetime.strptime('2021-09-24 08:00:00.000000', \"%Y-%m-%d %H:%M:%S.%f\").replace(tzinfo = FixedOffset(480, \"+0800\")),\n",
    "\"$lte\" : datetime.datetime.strptime('2021-09-25 08:00:00.000000', \"%Y-%m-%d %H:%M:%S.%f\").replace(tzinfo = FixedOffset(480, \"+0800\"))}\n",
    "'email': {'$regex': 'YP'}\n",
    "\"created_at\" : {\"$gte\" : datetime.datetime(2021, 9, 24), \"$lte\" : datetime.datetime(2021, 9, 25)\n",
    "\"created_at\" : {\"$gte\" : datetime.datetime(2021, 10, 1), \"$lte\" : datetime.datetime(2021, 10, 2)}\n",
    "'''\n",
    "cursor = collection.find({'game': 'C',\n",
    "                          \n",
    "                          'email': {'$regex': 'XX', '$options': 'XX'}\n",
    "                          \n",
    "                                                    \n",
    "                         })\n",
    "\n",
    "\n",
    "mg_path = r'XXX'\n",
    "feature_list = ['email', 'game', 'mngs', 'start_time', 'end_time']\n",
    "csv_name = 'XXX'\n",
    "df_data = mongo_concat_data(cursor,feature_list)\n",
    "df_event = mongo_concat_event(cursor)\n",
    "df_to_csv(df_data, df_event, mg_path, csv_name)\n",
    "display(df_data.userid.unique())\n",
    "display(df_data.head())"
   ]
  }
 ],
 "metadata": {
  "kernelspec": {
   "display_name": "Python 3",
   "language": "python",
   "name": "python3"
  },
  "language_info": {
   "codemirror_mode": {
    "name": "ipython",
    "version": 3
   },
   "file_extension": ".py",
   "mimetype": "text/x-python",
   "name": "python",
   "nbconvert_exporter": "python",
   "pygments_lexer": "ipython3",
   "version": "3.7.6"
  }
 },
 "nbformat": 4,
 "nbformat_minor": 5
}
